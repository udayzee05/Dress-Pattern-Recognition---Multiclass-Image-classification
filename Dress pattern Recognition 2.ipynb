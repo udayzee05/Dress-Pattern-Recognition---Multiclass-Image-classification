{
 "cells": [
  {
   "cell_type": "markdown",
   "metadata": {},
   "source": [
    "# Dress Pattern Recognition"
   ]
  },
  {
   "cell_type": "markdown",
   "metadata": {},
   "source": [
    "### Dataset:\n",
    "\n",
    "\n",
    "\n",
    "   <h5>Dataset contains 15500 images having 16 different categories.</h5>\n",
    "   <h5>Also has CSV file contains images url and there respective pattern category</h5>"
   ]
  },
  {
   "cell_type": "code",
   "execution_count": 1,
   "metadata": {
    "colab": {},
    "colab_type": "code",
    "id": "LxxzzDUqtXLJ"
   },
   "outputs": [
    {
     "name": "stdout",
     "output_type": "stream",
     "text": [
      "WARNING:tensorflow:From C:\\Users\\udayz_000\\Anaconda3\\envs\\PythonGPU\\lib\\site-packages\\tensorflow_core\\python\\compat\\v2_compat.py:65: disable_resource_variables (from tensorflow.python.ops.variable_scope) is deprecated and will be removed in a future version.\n",
      "Instructions for updating:\n",
      "non-resource variables are not supported in the long term\n"
     ]
    },
    {
     "name": "stderr",
     "output_type": "stream",
     "text": [
      "Using TensorFlow backend.\n"
     ]
    }
   ],
   "source": [
    "#import all required libraries and packages\n",
    "\n",
    "import os\n",
    "import numpy as np\n",
    "import pandas as pd\n",
    "import urllib\n",
    "from csv import reader\n",
    "import tensorflow.compat.v1 as tf\n",
    "tf.disable_v2_behavior()\n",
    "from keras.preprocessing import image\n",
    "from sklearn.model_selection import train_test_split\n",
    "#for tensorflow 2.0 import statements syntax also updated\n",
    "from keras import backend as K\n",
    "from tensorflow.keras.models import Sequential \n",
    "from tensorflow.keras.layers import Conv2D\n",
    "from tensorflow.keras.layers import MaxPooling2D\n",
    "from tensorflow.keras.layers import Flatten\n",
    "from tensorflow.keras.layers import Dense\n",
    "from tensorflow.keras.layers import Dropout\n",
    "from tensorflow.keras.layers import Activation\n",
    "from keras import optimizers\n",
    "from keras.utils import to_categorical\n",
    "import cv2\n",
    "import matplotlib.pyplot as plt\n",
    "from sklearn.model_selection import train_test_split\n",
    "from keras.utils import to_categorical\n",
    "from tqdm import tqdm"
   ]
  },
  {
   "cell_type": "code",
   "execution_count": 2,
   "metadata": {
    "colab": {},
    "colab_type": "code",
    "id": "yse21jdt1v2N"
   },
   "outputs": [],
   "source": [
    "#CSV file with URL\n",
    "csv_filename = 'dress_patterns.csv' \n",
    "#Downloaded images will be saved at destination folder\n",
    "dst_dir = 'dataset' \n",
    "\n",
    "def getImages(csv_file,loc):\n",
    "    img_counts = 0\n",
    "    fail_counts = 0\n",
    "    with tqdm(open(csv_file, 'r')) as csv_file:\n",
    "        for line in reader(csv_file):\n",
    "            # line[1] is dedicated dir name\n",
    "            # line[0] is id as name \n",
    "            url = line[3]\n",
    "            name = url.rsplit('/')[-1].split('.')[0] +'.png'\n",
    "            filename = loc + name\n",
    "            \n",
    "            try :\n",
    "                urllib.request.urlretrieve(url, filename)\n",
    "                img_counts += 1\n",
    "            except  Exception as e:\n",
    "                fail_counts += 1\n",
    "                print(str(e))\n",
    "    print('\\n Done')\n",
    "    print(f\"Images downloaded : {img_counts}\")\n",
    "    print(f\"Images failed to download {fail_counts}\")\n",
    "                         \n",
    "#getImages(csv_filename,dst_dir)\n"
   ]
  },
  {
   "cell_type": "markdown",
   "metadata": {
    "colab_type": "text",
    "id": "hRUNhjU6Dup7"
   },
   "source": [
    "# Preparing data"
   ]
  },
  {
   "cell_type": "code",
   "execution_count": 3,
   "metadata": {
    "colab": {},
    "colab_type": "code",
    "id": "pJc_6HiR6uOv"
   },
   "outputs": [
    {
     "name": "stderr",
     "output_type": "stream",
     "text": [
      "100%|████████████████████████████████████████████████████████████████████████████| 15702/15702 [06:00<00:00, 43.58it/s]\n"
     ]
    }
   ],
   "source": [
    "#generate data for feeding alalgorithm\n",
    "IMG_WIDTH = 50\n",
    "IMG_HEIGHT = 75\n",
    "IMG_CHENNEL = 1\n",
    "IMG_DIR = 'dataset'\n",
    "\n",
    "#function to create data for traing purpose\n",
    "#convert images into grayscale images\n",
    "#resize images\n",
    "#normalise images\n",
    "#check images channels\n",
    "\n",
    "def makeImageData(file,img_data_dir,IMG_WIDTH = 50,IMG_HEIGHT = 50,IMG_CHENNEL = 1):\n",
    "    df = pd.read_csv(file)\n",
    "    train_image = []\n",
    "    for i in tqdm(range(0,df.shape[0])):\n",
    "        url = df['image_url'][i]\n",
    "        name = url.rsplit('/')[-1].split('.')[0]\n",
    "        img_path = img_data_dir +'/'+name\n",
    "        img = image.load_img(img_path+'.png', target_size=(IMG_WIDTH,IMG_HEIGHT,IMG_CHENNEL),color_mode = \"grayscale\")\n",
    "        img = image.img_to_array(img)\n",
    "        img = img/255\n",
    "        train_image.append(img)\n",
    "    X = np.array(train_image)\n",
    "    np.save('X_images.npy',X)\n",
    "    return X\n",
    "\n",
    "# X contains final data i.e preprocessed \n",
    "X = makeImageData(csv_filename,IMG_DIR,IMG_WIDTH,IMG_HEIGHT,IMG_CHENNEL)\n",
    "\n"
   ]
  },
  {
   "cell_type": "code",
   "execution_count": 12,
   "metadata": {
    "colab": {},
    "colab_type": "code",
    "id": "3C_55tjj7hyA"
   },
   "outputs": [],
   "source": [
    "def createLabelList(file,label_col):\n",
    "    catDict = {}\n",
    "    y =[]\n",
    "    df = pd.read_csv(file)\n",
    "    y_temp = df[label_col].unique()\n",
    "    for i,cat in enumerate(y_temp):\n",
    "        catDict[cat] = i\n",
    "    temp = df[label_col].values\n",
    "    for name in temp:\n",
    "        y.append(catDict[name])\n",
    "    y = to_categorical(y)\n",
    "    np.save('y_labels.npy',y)\n",
    "\n",
    "    return y,catDict\n",
    "\n",
    "y,category_dict = createLabelList(csv_filename,'category')\n"
   ]
  },
  {
   "cell_type": "code",
   "execution_count": 13,
   "metadata": {
    "colab": {},
    "colab_type": "code",
    "id": "J9tkZ7d3CP0a"
   },
   "outputs": [],
   "source": [
    "def splitdataset(X,y,split_size =0.3):\n",
    "    X_train, X_test, y_train, y_test = train_test_split(X, y, random_state=42, test_size=split_size)\n",
    "    return  X_train, X_test, y_train, y_test\n",
    "#ratio in which data devides\n",
    "split_size =0.3\n",
    "#train and test data\n",
    "X_train, X_test, y_train, y_test = splitdataset(X,y,split_size)\n",
    "#train and validation data.\n",
    "X_train, X_val, y_train, y_val = splitdataset(X_train,y_train ,split_size)\n"
   ]
  },
  {
   "cell_type": "markdown",
   "metadata": {
    "colab_type": "text",
    "id": "BcYiqOwQD1vc"
   },
   "source": [
    "# Creating Model"
   ]
  },
  {
   "cell_type": "code",
   "execution_count": 14,
   "metadata": {
    "colab": {},
    "colab_type": "code",
    "id": "G4aI6zfPD6nz"
   },
   "outputs": [],
   "source": [
    "#build model\n",
    "def buildModel():\n",
    "    model = Sequential()\n",
    "    model.add(Conv2D(32, (3, 3), activation='relu', padding='same', name='conv_1', \n",
    "                    input_shape=(IMG_WIDTH, IMG_HEIGHT, IMG_CHENNEL)))\n",
    "    model.add(MaxPooling2D((2, 2), name='maxpool_1'))\n",
    "    model.add(Conv2D(64, (3, 3), activation='relu', padding='same', name='conv_2'))\n",
    "    model.add(MaxPooling2D((2, 2), name='maxpool_2'))\n",
    "    model.add(Conv2D(128, (3, 3), activation='relu', padding='same', name='conv_3'))\n",
    "    model.add(MaxPooling2D((2, 2), name='maxpool_3'))\n",
    "    model.add(Conv2D(256, (3, 3), activation='relu', padding='same', name='conv_4'))\n",
    "    model.add(MaxPooling2D((2, 2), name='maxpool_4'))\n",
    "    model.add(Flatten())\n",
    "    model.add(Dropout(0.5))\n",
    "    model.add(Dense(128, activation='relu', name='dense_2'))\n",
    "    model.add(Dense(17, activation='softmax', name='output'))\n",
    "\n",
    "    model.compile(loss='categorical_crossentropy',optimizer='Adam',metrics=['accuracy'])\n",
    "    return model\n",
    "\n",
    "model = buildModel()"
   ]
  },
  {
   "cell_type": "code",
   "execution_count": 17,
   "metadata": {
    "colab": {},
    "colab_type": "code",
    "id": "aBXf8hapEMNN"
   },
   "outputs": [
    {
     "name": "stdout",
     "output_type": "stream",
     "text": [
      "Train on 7693 samples, validate on 3298 samples\n",
      "Epoch 1/50\n",
      "7693/7693 [==============================] - 41s 5ms/sample - loss: 1.7300 - acc: 0.5301 - val_loss: 1.6275 - val_acc: 0.5464\n",
      "Epoch 2/50\n",
      "7693/7693 [==============================] - 53s 7ms/sample - loss: 1.6026 - acc: 0.5579 - val_loss: 1.5720 - val_acc: 0.5637\n",
      "Epoch 3/50\n",
      "7693/7693 [==============================] - 55s 7ms/sample - loss: 1.5504 - acc: 0.5807 - val_loss: 1.5327 - val_acc: 0.5955\n",
      "Epoch 4/50\n",
      "7693/7693 [==============================] - 55s 7ms/sample - loss: 1.5104 - acc: 0.5931 - val_loss: 1.5220 - val_acc: 0.5876\n",
      "Epoch 5/50\n",
      "7693/7693 [==============================] - 55s 7ms/sample - loss: 1.4799 - acc: 0.6024 - val_loss: 1.4927 - val_acc: 0.6028\n",
      "Epoch 6/50\n",
      "7693/7693 [==============================] - 55s 7ms/sample - loss: 1.4523 - acc: 0.6112 - val_loss: 1.4876 - val_acc: 0.5992\n",
      "Epoch 7/50\n",
      "7693/7693 [==============================] - 56s 7ms/sample - loss: 1.4230 - acc: 0.6207 - val_loss: 1.4990 - val_acc: 0.6028\n",
      "Epoch 8/50\n",
      "7693/7693 [==============================] - 56s 7ms/sample - loss: 1.3911 - acc: 0.6212 - val_loss: 1.4973 - val_acc: 0.5910\n",
      "Epoch 9/50\n",
      "7693/7693 [==============================] - 64s 8ms/sample - loss: 1.3589 - acc: 0.6312 - val_loss: 1.5239 - val_acc: 0.6092\n",
      "Epoch 10/50\n",
      "7693/7693 [==============================] - 57s 7ms/sample - loss: 1.3059 - acc: 0.6425 - val_loss: 1.5153 - val_acc: 0.6004\n",
      "Epoch 11/50\n",
      "7693/7693 [==============================] - 57s 7ms/sample - loss: 1.2627 - acc: 0.6479 - val_loss: 1.5393 - val_acc: 0.5879\n",
      "Epoch 12/50\n",
      "7693/7693 [==============================] - 55s 7ms/sample - loss: 1.1863 - acc: 0.6645 - val_loss: 1.5596 - val_acc: 0.5934\n",
      "Epoch 13/50\n",
      "7693/7693 [==============================] - 55s 7ms/sample - loss: 1.1108 - acc: 0.6797 - val_loss: 1.6957 - val_acc: 0.6040\n",
      "Epoch 14/50\n",
      "7693/7693 [==============================] - 55s 7ms/sample - loss: 1.0320 - acc: 0.6958 - val_loss: 1.6784 - val_acc: 0.5770\n",
      "Epoch 15/50\n",
      "7693/7693 [==============================] - 55s 7ms/sample - loss: 0.9515 - acc: 0.7131 - val_loss: 1.7521 - val_acc: 0.5843\n",
      "Epoch 16/50\n",
      "7693/7693 [==============================] - 56s 7ms/sample - loss: 0.8590 - acc: 0.7421 - val_loss: 1.8619 - val_acc: 0.5794\n",
      "Epoch 17/50\n",
      "7693/7693 [==============================] - 55s 7ms/sample - loss: 0.7599 - acc: 0.7619 - val_loss: 2.0079 - val_acc: 0.5852\n",
      "Epoch 18/50\n",
      "7693/7693 [==============================] - 55s 7ms/sample - loss: 0.6634 - acc: 0.7924 - val_loss: 2.1209 - val_acc: 0.5752\n",
      "Epoch 19/50\n",
      "7693/7693 [==============================] - 55s 7ms/sample - loss: 0.5936 - acc: 0.8115 - val_loss: 2.3401 - val_acc: 0.5888\n",
      "Epoch 20/50\n",
      "7693/7693 [==============================] - 55s 7ms/sample - loss: 0.4863 - acc: 0.8441 - val_loss: 2.4665 - val_acc: 0.5703\n",
      "Epoch 21/50\n",
      "7693/7693 [==============================] - 55s 7ms/sample - loss: 0.4166 - acc: 0.8648 - val_loss: 2.6034 - val_acc: 0.5743\n",
      "Epoch 22/50\n",
      "7693/7693 [==============================] - 62s 8ms/sample - loss: 0.3565 - acc: 0.8834 - val_loss: 2.6814 - val_acc: 0.5634\n",
      "Epoch 23/50\n",
      "7693/7693 [==============================] - 68s 9ms/sample - loss: 0.3225 - acc: 0.8951 - val_loss: 2.9571 - val_acc: 0.5800\n",
      "Epoch 24/50\n",
      "7693/7693 [==============================] - 66s 9ms/sample - loss: 0.2783 - acc: 0.9123 - val_loss: 3.0921 - val_acc: 0.5761\n",
      "Epoch 25/50\n",
      "7693/7693 [==============================] - 62s 8ms/sample - loss: 0.2629 - acc: 0.9168 - val_loss: 3.0964 - val_acc: 0.5631\n",
      "Epoch 26/50\n",
      "7693/7693 [==============================] - 85s 11ms/sample - loss: 0.2454 - acc: 0.9225 - val_loss: 2.9656 - val_acc: 0.5485\n",
      "Epoch 27/50\n",
      "7693/7693 [==============================] - 78s 10ms/sample - loss: 0.2357 - acc: 0.9201 - val_loss: 3.1478 - val_acc: 0.5609\n",
      "Epoch 28/50\n",
      "7693/7693 [==============================] - 60s 8ms/sample - loss: 0.2232 - acc: 0.9288 - val_loss: 3.5369 - val_acc: 0.5797\n",
      "Epoch 29/50\n",
      "7693/7693 [==============================] - 56s 7ms/sample - loss: 0.1786 - acc: 0.9429 - val_loss: 3.1233 - val_acc: 0.5591\n",
      "Epoch 30/50\n",
      "7693/7693 [==============================] - 56s 7ms/sample - loss: 0.1627 - acc: 0.9455 - val_loss: 3.5293 - val_acc: 0.5534\n",
      "Epoch 31/50\n",
      "7693/7693 [==============================] - 60s 8ms/sample - loss: 0.1644 - acc: 0.9472 - val_loss: 3.7008 - val_acc: 0.5788\n",
      "Epoch 32/50\n",
      "7693/7693 [==============================] - 61s 8ms/sample - loss: 0.1625 - acc: 0.9503 - val_loss: 3.8114 - val_acc: 0.5819\n",
      "Epoch 33/50\n",
      "7693/7693 [==============================] - 63s 8ms/sample - loss: 0.1505 - acc: 0.9520 - val_loss: 3.4358 - val_acc: 0.5537\n",
      "Epoch 34/50\n",
      "7693/7693 [==============================] - 66s 9ms/sample - loss: 0.1488 - acc: 0.9532 - val_loss: 3.6820 - val_acc: 0.5770\n",
      "Epoch 35/50\n",
      "7693/7693 [==============================] - 70s 9ms/sample - loss: 0.1504 - acc: 0.9522 - val_loss: 3.7834 - val_acc: 0.5740\n",
      "Epoch 36/50\n",
      "7693/7693 [==============================] - 64s 8ms/sample - loss: 0.1426 - acc: 0.9535 - val_loss: 3.8012 - val_acc: 0.5706\n",
      "Epoch 37/50\n",
      "7693/7693 [==============================] - 60s 8ms/sample - loss: 0.1260 - acc: 0.9600 - val_loss: 3.9854 - val_acc: 0.5722\n",
      "Epoch 38/50\n",
      "7693/7693 [==============================] - 76s 10ms/sample - loss: 0.1087 - acc: 0.9659 - val_loss: 4.0007 - val_acc: 0.5791\n",
      "Epoch 39/50\n",
      "7693/7693 [==============================] - 74s 10ms/sample - loss: 0.1268 - acc: 0.9598 - val_loss: 4.0360 - val_acc: 0.5612\n",
      "Epoch 40/50\n",
      "7693/7693 [==============================] - 57s 7ms/sample - loss: 0.1282 - acc: 0.9583 - val_loss: 4.1091 - val_acc: 0.5682\n",
      "Epoch 41/50\n",
      "7693/7693 [==============================] - 57s 7ms/sample - loss: 0.1226 - acc: 0.9602 - val_loss: 3.7068 - val_acc: 0.5694\n",
      "Epoch 42/50\n",
      "7693/7693 [==============================] - 59s 8ms/sample - loss: 0.1309 - acc: 0.9581 - val_loss: 3.9454 - val_acc: 0.5700\n",
      "Epoch 43/50\n",
      "7693/7693 [==============================] - 64s 8ms/sample - loss: 0.1137 - acc: 0.9630 - val_loss: 3.7804 - val_acc: 0.5661\n",
      "Epoch 44/50\n",
      "7693/7693 [==============================] - 63s 8ms/sample - loss: 0.1296 - acc: 0.9594 - val_loss: 3.7475 - val_acc: 0.5664\n",
      "Epoch 45/50\n",
      "7693/7693 [==============================] - 65s 8ms/sample - loss: 0.1027 - acc: 0.9689 - val_loss: 4.0534 - val_acc: 0.5646\n",
      "Epoch 46/50\n",
      "7693/7693 [==============================] - 58s 8ms/sample - loss: 0.1068 - acc: 0.9676 - val_loss: 4.2800 - val_acc: 0.5500\n",
      "Epoch 47/50\n",
      "7693/7693 [==============================] - 57s 7ms/sample - loss: 0.0960 - acc: 0.9697 - val_loss: 4.0772 - val_acc: 0.5734\n",
      "Epoch 48/50\n",
      "7693/7693 [==============================] - 57s 7ms/sample - loss: 0.1007 - acc: 0.9667 - val_loss: 4.3006 - val_acc: 0.5737\n",
      "Epoch 49/50\n",
      "7693/7693 [==============================] - 56s 7ms/sample - loss: 0.1353 - acc: 0.9552 - val_loss: 3.8953 - val_acc: 0.5655\n",
      "Epoch 50/50\n",
      "7693/7693 [==============================] - 60s 8ms/sample - loss: 0.1115 - acc: 0.9640 - val_loss: 4.4485 - val_acc: 0.5791\n"
     ]
    },
    {
     "data": {
      "text/plain": [
       "<tensorflow.python.keras.callbacks.History at 0x17a51c4b7b8>"
      ]
     },
     "execution_count": 17,
     "metadata": {},
     "output_type": "execute_result"
    }
   ],
   "source": [
    "#  training the model\n",
    "model.fit(X_train, y_train, epochs=50,validation_data=(X_val, y_val))\n"
   ]
  },
  {
   "cell_type": "code",
   "execution_count": 18,
   "metadata": {
    "colab": {},
    "colab_type": "code",
    "id": "h6mRsu9BFwEg"
   },
   "outputs": [
    {
     "name": "stdout",
     "output_type": "stream",
     "text": [
      "Saved model to disk\n"
     ]
    }
   ],
   "source": [
    "#save model for further use\n",
    "model.save_weights(\"model.h5\")\n",
    "print(\"Saved model to disk\")"
   ]
  },
  {
   "cell_type": "code",
   "execution_count": 19,
   "metadata": {
    "colab": {},
    "colab_type": "code",
    "id": "lU9OufMbG110"
   },
   "outputs": [
    {
     "name": "stdout",
     "output_type": "stream",
     "text": [
      "4711/4711 [==============================] - 12s 3ms/sample - loss: 4.1862 - acc: 0.5948\n"
     ]
    },
    {
     "data": {
      "text/plain": [
       "[4.186227071920389, 0.5947782]"
      ]
     },
     "execution_count": 19,
     "metadata": {},
     "output_type": "execute_result"
    }
   ],
   "source": [
    "model.evaluate(x=X_test, y=y_test, batch_size=None, verbose=1,)"
   ]
  },
  {
   "cell_type": "markdown",
   "metadata": {
    "colab_type": "text",
    "id": "MDh_ukxgv1Yl"
   },
   "source": [
    "# Predicting finction"
   ]
  },
  {
   "cell_type": "code",
   "execution_count": 21,
   "metadata": {
    "colab": {
     "base_uri": "https://localhost:8080/",
     "height": 35
    },
    "colab_type": "code",
    "id": "KMmgUo17Hlfi",
    "outputId": "c2f9f720-f9a3-4468-8db0-e224e04c2d76"
   },
   "outputs": [
    {
     "name": "stdout",
     "output_type": "stream",
     "text": [
      "floral\n"
     ]
    }
   ],
   "source": [
    "%matplotlib inline\n",
    "def predictImage(img_path):\n",
    "    # category_dict to category list\n",
    "    categories = list(category_dict.keys()) \n",
    "    IMG_WIDTH = 50\n",
    "    IMG_HEIGHT = 75\n",
    "    IMG_CHENNEL = 1\n",
    "    IMG = image.load_img(img_path, target_size=(IMG_WIDTH,IMG_HEIGHT,IMG_CHENNEL),color_mode = \"grayscale\")\n",
    "    IMG = image.img_to_array(IMG)\n",
    "    IMG = IMG/255\n",
    "    x = np.expand_dims(IMG, axis=0)\n",
    "    result =int(model.predict_classes(x))\n",
    "\n",
    "    result_category = categories[result]\n",
    "    return result_category\n",
    "img = 'dataset/00073f06539e4dd7b81f6009eedbcae3.png'\n",
    "category = predictImage(img)\n",
    "print(category)\n"
   ]
  },
  {
   "cell_type": "markdown",
   "metadata": {
    "colab_type": "text",
    "id": "_fFob4Vv2BJj"
   },
   "source": [
    "# Similarity Finction "
   ]
  },
  {
   "cell_type": "code",
   "execution_count": 23,
   "metadata": {
    "colab": {
     "base_uri": "https://localhost:8080/",
     "height": 1000
    },
    "colab_type": "code",
    "id": "zXJonim3xGVQ",
    "outputId": "5cbbf3a4-f897-4613-c868-8cf422829b68"
   },
   "outputs": [
    {
     "name": "stdout",
     "output_type": "stream",
     "text": [
      "query Image category is floral\n"
     ]
    },
    {
     "data": {
      "image/png": "[encoded data removed]",
      "text/plain": [
       "<Figure size 432x288 with 1 Axes>"
      ]
     },
     "metadata": {
      "needs_background": "light"
     },
     "output_type": "display_data"
    }
   ],
   "source": [
    "csv_file = 'dress_patterns.csv' # csv file contains urls\n",
    "%matplotlib inline\n",
    "def showSimilarImage(img_path,n_sim = 4):\n",
    " \n",
    "    result_category = predictImage(img_path)\n",
    "\n",
    "    print(f\"query Image category is {result_category}\")\n",
    "    img = cv2.imread(img_path, cv2.IMREAD_UNCHANGED)\n",
    "    plt.imshow(img) # to Display query image \n",
    "\n",
    "    df =pd.read_csv(csv_file)\n",
    "    df1 =df[ df['category'].str.contains(result_category).to_list() ]\n",
    "    imgs = df1['image_url'].sample(n_sim).to_list()\n",
    "    # To display all the similar images\n",
    "    for i in imgs:\n",
    "        \n",
    "        name = i.rsplit('/')[-1].split('.')[0]+'.png' \n",
    "        loc = \"dataset/\"\n",
    "        imgName = loc + name\n",
    "        # print(filename)\n",
    "        img = cv2.imread(imgName, cv2.IMREAD_UNCHANGED)\n",
    "        plt.imshow(img)\n",
    "        \n",
    "showSimilarImage('dataset/00073f06539e4dd7b81f6009eedbcae3.png')\n",
    "     \n",
    "        \n",
    "#cv2.destroyAllWindows()\n",
    "\n"
   ]
  }
 ],
 "metadata": {
  "accelerator": "GPU",
  "colab": {
   "collapsed_sections": [],
   "include_colab_link": true,
   "machine_shape": "hm",
   "name": "Greendeck_assignment(Machine_learning).ipynb",
   "provenance": [],
   "toc_visible": true
  },
  "kernelspec": {
   "display_name": "Python 3",
   "language": "python",
   "name": "python3"
  },
  "language_info": {
   "codemirror_mode": {
    "name": "ipython",
    "version": 3
   },
   "file_extension": ".py",
   "mimetype": "text/x-python",
   "name": "python",
   "nbconvert_exporter": "python",
   "pygments_lexer": "ipython3",
   "version": "3.7.1"
  }
 },
 "nbformat": 4,
 "nbformat_minor": 1
}
